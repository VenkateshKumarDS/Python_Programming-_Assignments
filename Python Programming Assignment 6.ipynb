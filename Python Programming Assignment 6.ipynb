{
 "cells": [
  {
   "cell_type": "markdown",
   "id": "eef05017",
   "metadata": {},
   "source": [
    "1.\tWrite a Python Program to Display Fibonacci Sequence Using Recursion?"
   ]
  },
  {
   "cell_type": "code",
   "execution_count": 3,
   "id": "e6e1b1d4",
   "metadata": {},
   "outputs": [
    {
     "name": "stdout",
     "output_type": "stream",
     "text": [
      "Enter Number of Terms:1\n",
      "The Fibonacci Series\n",
      "1\n"
     ]
    }
   ],
   "source": [
    "# Program for Fibonacci Series using Recursion.\n",
    "def FiboRecur(n):\n",
    "    if n<=1:\n",
    "        return n\n",
    "    else:\n",
    "        return FiboRecur(n-1)+FiboRecur(n-2)\n",
    "    \n",
    "no_of_Terms=int(input('Enter Number of Terms:'))\n",
    "\n",
    "print('The Fibonacci Series')\n",
    "for i in range(1,no_of_Terms+1):\n",
    "    print(FiboRecur(i))"
   ]
  },
  {
   "cell_type": "markdown",
   "id": "1c492cda",
   "metadata": {},
   "source": [
    "2.\tWrite a Python Program to Find Factorial of Number Using Recursion?"
   ]
  },
  {
   "cell_type": "code",
   "execution_count": 12,
   "id": "174e5984",
   "metadata": {},
   "outputs": [
    {
     "name": "stdout",
     "output_type": "stream",
     "text": [
      "Enter a number to find its factorial:2\n",
      "2!= 2\n"
     ]
    }
   ],
   "source": [
    "# Program to find Factorial of a number using recursion\n",
    "\n",
    "def Factorial(n):\n",
    "    if n ==1:\n",
    "        return n\n",
    "    else:\n",
    "        return n*Factorial(n-1)\n",
    "num=int(input('Enter a number to find its factorial:'))\n",
    "if num!=0:\n",
    "    print(str(num)+'!=',Factorial(num))\n",
    "else:\n",
    "    print('0!=1')\n"
   ]
  },
  {
   "cell_type": "markdown",
   "id": "c37bc221",
   "metadata": {},
   "source": [
    "3.\tWrite a Python Program to calculate your Body Mass Index?"
   ]
  },
  {
   "cell_type": "code",
   "execution_count": 24,
   "id": "eb9f8b1b",
   "metadata": {},
   "outputs": [
    {
     "name": "stdout",
     "output_type": "stream",
     "text": [
      "Enter Weight in kilograms (kgs):50\n",
      "Enter option. 1 --> Centimeters (cms)     2 --> Meters (m)2\n",
      "Enter Height in Meters (m):1.7\n",
      "BMI for Weight: 50.0 kg & Height: 1.7 m is:17.30\n"
     ]
    }
   ],
   "source": [
    "wt=float(input('Enter Weight in kilograms (kgs):'))\n",
    "while True: \n",
    "    ht=int(input('Enter option. 1 --> Centimeters (cms)     2 --> Meters (m)'))\n",
    "    if ht==1 or ht==2:\n",
    "        break\n",
    "    else:\n",
    "        print('Enter VALID option.')\n",
    "if ht==1:\n",
    "    hcm=float(input('Enter Height in Centimeters (cm):'))\n",
    "    hm=hcm*0.01\n",
    "elif ht==2:\n",
    "    hm=float(input('Enter Height in Meters (m):'))\n",
    "def BMI(a,b):\n",
    "    '''This function returns Body Mass Index (BMI) for given weight and height values.'''\n",
    "    return (a/b**2)\n",
    "print('BMI for Weight:',wt,'kg & Height:',hm,'m is:%0.2f'%BMI(wt,hm))\n",
    "\n"
   ]
  },
  {
   "cell_type": "code",
   "execution_count": 31,
   "id": "0ef59e4b",
   "metadata": {},
   "outputs": [
    {
     "name": "stdout",
     "output_type": "stream",
     "text": [
      "Enter a number to find natural logarithm:10\n",
      "ln(10.0)= 2.3026\n"
     ]
    }
   ],
   "source": [
    "# This program calculates natural logarithm of a number\n",
    "import math\n",
    "num=float(input('Enter a number to find natural logarithm:'))\n",
    "print(f'ln({num})= %0.4f'%math.log(num))"
   ]
  },
  {
   "cell_type": "code",
   "execution_count": 33,
   "id": "95445af3",
   "metadata": {},
   "outputs": [
    {
     "name": "stdout",
     "output_type": "stream",
     "text": [
      "Enter n value:5\n",
      "CubeSum of first 5 natural numbers: 225\n"
     ]
    }
   ],
   "source": [
    "# Cube sum of 'n' natural numbers\n",
    "n=int(input('Enter n value:'))\n",
    "csum=0\n",
    "for i in range(1,n+1):\n",
    "    csum+=i**3\n",
    "print('CubeSum of first',n,'natural numbers:',csum)"
   ]
  },
  {
   "cell_type": "code",
   "execution_count": null,
   "id": "372737d0",
   "metadata": {},
   "outputs": [],
   "source": []
  }
 ],
 "metadata": {
  "kernelspec": {
   "display_name": "Python 3 (ipykernel)",
   "language": "python",
   "name": "python3"
  },
  "language_info": {
   "codemirror_mode": {
    "name": "ipython",
    "version": 3
   },
   "file_extension": ".py",
   "mimetype": "text/x-python",
   "name": "python",
   "nbconvert_exporter": "python",
   "pygments_lexer": "ipython3",
   "version": "3.11.2"
  }
 },
 "nbformat": 4,
 "nbformat_minor": 5
}
