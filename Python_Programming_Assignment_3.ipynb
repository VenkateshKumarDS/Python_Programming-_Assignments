{
 "cells": [
  {
   "cell_type": "markdown",
   "id": "ab033ca0",
   "metadata": {},
   "source": [
    "1.\tWrite a Python Program to Check if a Number is Positive, Negative or Zero?"
   ]
  },
  {
   "cell_type": "code",
   "execution_count": 3,
   "id": "64dafed8",
   "metadata": {},
   "outputs": [
    {
     "name": "stdout",
     "output_type": "stream",
     "text": [
      "Enter a number:0\n",
      "0 is zero.\n"
     ]
    }
   ],
   "source": [
    "# This program check whether the input number is positive , negative or zero\n",
    "num=int(input('Enter a number:'))\n",
    "if num>0:\n",
    "    print(num,'is a positive number.')\n",
    "elif num<0:\n",
    "    print(num,'is a negative number.')\n",
    "else:\n",
    "    print(num,'is zero.')"
   ]
  },
  {
   "cell_type": "markdown",
   "id": "aad4a4bd",
   "metadata": {},
   "source": [
    "2.\tWrite a Python Program to Check if a Number is Odd or Even?"
   ]
  },
  {
   "cell_type": "code",
   "execution_count": 4,
   "id": "63a29533",
   "metadata": {},
   "outputs": [
    {
     "name": "stdout",
     "output_type": "stream",
     "text": [
      "Enter a number:25\n",
      "25 is an odd number.\n"
     ]
    }
   ],
   "source": [
    "# Odd or even\n",
    "n=int(input('Enter a number:'))\n",
    "if n%2 == 0:\n",
    "    print (n,'is an even number.')\n",
    "else:\n",
    "    print(n,'is an odd number.')"
   ]
  },
  {
   "cell_type": "markdown",
   "id": "26557e03",
   "metadata": {},
   "source": [
    "3.\tWrite a Python Program to Check Leap Year?"
   ]
  },
  {
   "cell_type": "code",
   "execution_count": 10,
   "id": "3cd2f67c",
   "metadata": {},
   "outputs": [
    {
     "name": "stdout",
     "output_type": "stream",
     "text": [
      "Enter year to check leap or not leap:1996\n",
      "1996 is a leap year.\n"
     ]
    }
   ],
   "source": [
    "def LeapYear(year):\n",
    "    if year%4 == 0:\n",
    "        if year%100 == 0:\n",
    "            if year%400 == 0:\n",
    "                return True\n",
    "            else:\n",
    "                return False\n",
    "        else:\n",
    "            return True\n",
    "    else:\n",
    "        return False\n",
    "\n",
    "yr=int(input('Enter year to check leap or not leap:'))\n",
    "if LeapYear(yr):\n",
    "    print(yr,'is a leap year.')\n",
    "else:\n",
    "    print(yr,'is not a leap year.')"
   ]
  },
  {
   "cell_type": "markdown",
   "id": "8c700e5d",
   "metadata": {},
   "source": [
    "4.\tWrite a Python Program to Check Prime Number?"
   ]
  },
  {
   "cell_type": "code",
   "execution_count": 25,
   "id": "b794242b",
   "metadata": {},
   "outputs": [
    {
     "name": "stdout",
     "output_type": "stream",
     "text": [
      "Enter a number to check prime or not:7\n",
      "7 is a Prime Number\n"
     ]
    }
   ],
   "source": [
    "# Program to check whether given number is prime or not prime\n",
    "def Prime(num):\n",
    "    for i in range(2,num):\n",
    "        if num%i == 0:\n",
    "            return False\n",
    "            \n",
    "    else:\n",
    "        return True\n",
    "n=int(input('Enter a number to check prime or not:'))\n",
    "if Prime(n):\n",
    "    print(n,'is a Prime Number')\n",
    "else:\n",
    "    print(n,'is Not a Prime Number')"
   ]
  },
  {
   "cell_type": "markdown",
   "id": "b019fca2",
   "metadata": {},
   "source": [
    "5.\tWrite a Python Program to Print all Prime Numbers in an Interval of 1-10000?"
   ]
  },
  {
   "cell_type": "code",
   "execution_count": 29,
   "id": "7544c571",
   "metadata": {},
   "outputs": [
    {
     "name": "stdout",
     "output_type": "stream",
     "text": [
      "Enter starting number:1\n",
      "Enter ending limit:1000\n",
      "[2, 3, 5, 7, 11, 13, 17, 19, 23, 29, 31, 37, 41, 43, 47, 53, 59, 61, 67, 71, 73, 79, 83, 89, 97, 101, 103, 107, 109, 113, 127, 131, 137, 139, 149, 151, 157, 163, 167, 173, 179, 181, 191, 193, 197, 199, 211, 223, 227, 229, 233, 239, 241, 251, 257, 263, 269, 271, 277, 281, 283, 293, 307, 311, 313, 317, 331, 337, 347, 349, 353, 359, 367, 373, 379, 383, 389, 397, 401, 409, 419, 421, 431, 433, 439, 443, 449, 457, 461, 463, 467, 479, 487, 491, 499, 503, 509, 521, 523, 541, 547, 557, 563, 569, 571, 577, 587, 593, 599, 601, 607, 613, 617, 619, 631, 641, 643, 647, 653, 659, 661, 673, 677, 683, 691, 701, 709, 719, 727, 733, 739, 743, 751, 757, 761, 769, 773, 787, 797, 809, 811, 821, 823, 827, 829, 839, 853, 857, 859, 863, 877, 881, 883, 887, 907, 911, 919, 929, 937, 941, 947, 953, 967, 971, 977, 983, 991, 997]\n"
     ]
    }
   ],
   "source": [
    "# Program to Print all Prime Numbers in an Interval of 1-10000\n",
    "start=int(input('Enter starting number:'))\n",
    "end=int(input('Enter ending limit:'))\n",
    "prime_numbers=[]\n",
    "\n",
    "for i in range(start,end):\n",
    "    if i>1:\n",
    "        if Prime(i):\n",
    "            prime_numbers.append(i)\n",
    "print(prime_numbers)"
   ]
  },
  {
   "cell_type": "code",
   "execution_count": null,
   "id": "4cf8d96d",
   "metadata": {},
   "outputs": [],
   "source": []
  }
 ],
 "metadata": {
  "kernelspec": {
   "display_name": "Python 3 (ipykernel)",
   "language": "python",
   "name": "python3"
  },
  "language_info": {
   "codemirror_mode": {
    "name": "ipython",
    "version": 3
   },
   "file_extension": ".py",
   "mimetype": "text/x-python",
   "name": "python",
   "nbconvert_exporter": "python",
   "pygments_lexer": "ipython3",
   "version": "3.11.2"
  }
 },
 "nbformat": 4,
 "nbformat_minor": 5
}
