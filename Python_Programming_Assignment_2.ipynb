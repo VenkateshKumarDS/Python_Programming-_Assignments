{
 "cells": [
  {
   "cell_type": "markdown",
   "id": "5f8a984c",
   "metadata": {},
   "source": [
    "1.\tWrite a Python program to convert kilometers to miles?"
   ]
  },
  {
   "cell_type": "code",
   "execution_count": 2,
   "id": "caa1efe5",
   "metadata": {},
   "outputs": [
    {
     "name": "stdout",
     "output_type": "stream",
     "text": [
      "Enter kms:1\n",
      "1.0 kms = 0.62 miles\n"
     ]
    }
   ],
   "source": [
    "# This program converts kilometers to miles.\n",
    "km=float(input('Enter kms:'))\n",
    "miles=km/1.609344\n",
    "print(km,'km(s) =','%.2f miles'%miles)"
   ]
  },
  {
   "cell_type": "markdown",
   "id": "fe1162ff",
   "metadata": {},
   "source": [
    "2.\tWrite a Python program to convert Celsius to Fahrenheit?"
   ]
  },
  {
   "cell_type": "code",
   "execution_count": 7,
   "id": "86725553",
   "metadata": {},
   "outputs": [
    {
     "name": "stdout",
     "output_type": "stream",
     "text": [
      "Enter temperature in celsius:2\n",
      "2.0 ⁰C = 35.6⁰F\n"
     ]
    }
   ],
   "source": [
    "# This program converts celsius to fahrenheit\n",
    "\n",
    "cel=float(input('Enter temperature in celsius:'))\n",
    "faren=cel*9/5+32\n",
    "print(cel,'\\u2070C = %.1f\\u2070F'%faren)"
   ]
  },
  {
   "cell_type": "markdown",
   "id": "351b8d74",
   "metadata": {},
   "source": [
    "3.\tWrite a Python program to display calendar?"
   ]
  },
  {
   "cell_type": "code",
   "execution_count": 8,
   "id": "d3609839",
   "metadata": {},
   "outputs": [
    {
     "name": "stdout",
     "output_type": "stream",
     "text": [
      "Enter Year:1979\n",
      "Enter month (1-12):12\n",
      "   December 1979\n",
      "Mo Tu We Th Fr Sa Su\n",
      "                1  2\n",
      " 3  4  5  6  7  8  9\n",
      "10 11 12 13 14 15 16\n",
      "17 18 19 20 21 22 23\n",
      "24 25 26 27 28 29 30\n",
      "31\n",
      "\n"
     ]
    }
   ],
   "source": [
    "import calendar\n",
    "year=int(input('Enter Year:'))\n",
    "month=int(input('Enter month (1-12):'))\n",
    "print(calendar.month(year,month))"
   ]
  },
  {
   "cell_type": "markdown",
   "id": "33798bba",
   "metadata": {},
   "source": [
    "4.\tWrite a Python program to solve quadratic equation?"
   ]
  },
  {
   "cell_type": "code",
   "execution_count": 17,
   "id": "4a472666",
   "metadata": {},
   "outputs": [
    {
     "name": "stdout",
     "output_type": "stream",
     "text": [
      "1 2 3\n",
      "The roots are: -3.0 1.0\n"
     ]
    }
   ],
   "source": [
    "# Solving a quadratic equation (excludes complex values)\n",
    "a,b,c=map(int,input().split())\n",
    "x1=(-b+0.5*((b**2)-4*a*c))/(2*a)\n",
    "x2=(-b-0.5*((b**2)-4*a*c))/(2*a)\n",
    "print('The roots are:',x1,x2)\n"
   ]
  },
  {
   "cell_type": "markdown",
   "id": "f98f0a3a",
   "metadata": {},
   "source": [
    "\n",
    "5.\tWrite a Python program to swap two variables without temp variable?"
   ]
  },
  {
   "cell_type": "code",
   "execution_count": 18,
   "id": "b5ef7f2c",
   "metadata": {},
   "outputs": [
    {
     "name": "stdout",
     "output_type": "stream",
     "text": [
      "Enter 1st value:8\n",
      "Enter 2nd value:3\n",
      "Values before swaping a = 8 b = 3\n",
      "Values after swaping a = 3 b = 8\n"
     ]
    }
   ],
   "source": [
    "a=int(input('Enter 1st value:'))\n",
    "b=int(input('Enter 2nd value:'))\n",
    "print('Values before swaping a =',a,'b =',b)\n",
    "a,b=b,a\n",
    "print('Values after swaping a =',a,'b =',b)"
   ]
  },
  {
   "cell_type": "code",
   "execution_count": null,
   "id": "a8dba412",
   "metadata": {},
   "outputs": [],
   "source": []
  },
  {
   "cell_type": "code",
   "execution_count": null,
   "id": "a4950188",
   "metadata": {},
   "outputs": [],
   "source": []
  }
 ],
 "metadata": {
  "kernelspec": {
   "display_name": "Python 3 (ipykernel)",
   "language": "python",
   "name": "python3"
  },
  "language_info": {
   "codemirror_mode": {
    "name": "ipython",
    "version": 3
   },
   "file_extension": ".py",
   "mimetype": "text/x-python",
   "name": "python",
   "nbconvert_exporter": "python",
   "pygments_lexer": "ipython3",
   "version": "3.11.2"
  }
 },
 "nbformat": 4,
 "nbformat_minor": 5
}
