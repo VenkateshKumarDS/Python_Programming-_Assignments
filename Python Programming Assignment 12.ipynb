{
 "cells": [
  {
   "cell_type": "markdown",
   "id": "3cbbf045",
   "metadata": {},
   "source": [
    "# S Venkatesh Kumar\n",
    "## Python Programming Assignment 12"
   ]
  },
  {
   "cell_type": "markdown",
   "id": "c46b77f0",
   "metadata": {},
   "source": [
    "1. Write a Python program to Extract Unique values dictionary values."
   ]
  },
  {
   "cell_type": "code",
   "execution_count": 17,
   "id": "fb2a5b74",
   "metadata": {},
   "outputs": [
    {
     "name": "stdout",
     "output_type": "stream",
     "text": [
      "The unique values list is: [1, 2, 5, 6, 7, 8, 10, 11, 12]\n"
     ]
    }
   ],
   "source": [
    "dict0 = {'A': [5, 6, 7, 8], 'B': [10, 11, 7, 5], 'C': [6, 12, 10, 8], 'D': [1, 2, 5]} \n",
    "\n",
    "#unique values are stored in the list res\n",
    "res = list(sorted({ele for val in dict.values() for ele in val})) \n",
    "\n",
    "print(\"The unique values list is:\",res)"
   ]
  },
  {
   "cell_type": "markdown",
   "id": "7d44b2e2",
   "metadata": {},
   "source": [
    "2. Write a Python program to find the sum of all items in a dictionary.\n",
    "\n"
   ]
  },
  {
   "cell_type": "code",
   "execution_count": 18,
   "id": "8f49338e",
   "metadata": {},
   "outputs": [
    {
     "name": "stdout",
     "output_type": "stream",
     "text": [
      "Sum of all values: 103\n"
     ]
    }
   ],
   "source": [
    "#let's use the previous dictionary to calculate the sum of all values\n",
    "SUM=0\n",
    "for i in dict0.values():\n",
    "    SUM+=sum(i)\n",
    "print('Sum of all values:',SUM)\n"
   ]
  },
  {
   "cell_type": "markdown",
   "id": "2c5a8f09",
   "metadata": {},
   "source": [
    "3. Write a Python program to Merging two Dictionaries."
   ]
  },
  {
   "cell_type": "code",
   "execution_count": 10,
   "id": "9e6e9085",
   "metadata": {},
   "outputs": [
    {
     "name": "stdout",
     "output_type": "stream",
     "text": [
      "Dictionary 1: {'A': 1, 'B': 2, 'C': 3}\n",
      "Dictionary 2: {'C': 4, 'D': 5, 'E': 6}\n",
      "Merged Dictionary: {'A': 1, 'B': 2, 'C': 4, 'D': 5, 'E': 6}\n"
     ]
    }
   ],
   "source": [
    "dict1={'A':1,'B':2,'C':3}\n",
    "dict2={'C':4,'D':5,'E':6}\n",
    "merged=dict1.copy()\n",
    "merged.update(dict2)\n",
    "print('Dictionary 1:',dict1)\n",
    "print('Dictionary 2:',dict2)\n",
    "print('Merged Dictionary:',merged)\n"
   ]
  },
  {
   "cell_type": "markdown",
   "id": "6f337f66",
   "metadata": {},
   "source": [
    "4. Write a Python program to convert key-values list to flat dictionary.\n",
    "\n"
   ]
  },
  {
   "cell_type": "code",
   "execution_count": 3,
   "id": "b6920db4",
   "metadata": {},
   "outputs": [
    {
     "name": "stdout",
     "output_type": "stream",
     "text": [
      "Original dictionary: {'key': ['A', 'B', 'C', 'D', 'E'], 'value': [1, 2, 3, 4, 5]}\n",
      "Flatened dictionary: {'A': 1, 'B': 2, 'C': 3, 'D': 4, 'E': 5}\n"
     ]
    }
   ],
   "source": [
    "dict1={'key':['A','B','C','D','E'],'value':[1,2,3,4,5]}\n",
    "# converting key-values list to flat dictionary using dict() and zip().\n",
    "flat_dict = dict(zip(dict1['key'],dict1['value']))\n",
    "print('Original dictionary:',dict1)\n",
    "print('Flatened dictionary:',flat_dict)"
   ]
  },
  {
   "cell_type": "markdown",
   "id": "40823af2",
   "metadata": {},
   "source": [
    "5. Write a Python program to insertion at the beginning in OrderedDict."
   ]
  },
  {
   "cell_type": "code",
   "execution_count": 7,
   "id": "56c95a23",
   "metadata": {},
   "outputs": [
    {
     "name": "stdout",
     "output_type": "stream",
     "text": [
      "Ordered Dictionary: OrderedDict([(1, 'A'), (2, 'B'), (3, 'C')])\n"
     ]
    }
   ],
   "source": [
    "from collections import OrderedDict\n",
    "initial_dict=OrderedDict([(2,'B'),(3,'C')])\n",
    "initial_dict.update({1:'A'})\n",
    "# insertion in the beginning\n",
    "initial_dict.move_to_end(1,last=False)\n",
    "print('Ordered Dictionary:',initial_dict)"
   ]
  },
  {
   "cell_type": "markdown",
   "id": "7945a526",
   "metadata": {},
   "source": [
    "6. Write a Python program to check order of character in string using OrderedDict()."
   ]
  },
  {
   "cell_type": "code",
   "execution_count": 12,
   "id": "1b3b87e4",
   "metadata": {},
   "outputs": [
    {
     "name": "stdout",
     "output_type": "stream",
     "text": [
      "Enter a string:venkates\n",
      "Enter pattern string to check:at\n",
      "Pattern matches with the string.\n"
     ]
    }
   ],
   "source": [
    "from collections import OrderedDict\n",
    "\n",
    "def check_order(input_str, pattern):\n",
    "    '''This function checks whether the entered pattern matches with the input string.'''\n",
    "    # create an ordered dictionary of input string\n",
    "    dict = OrderedDict.fromkeys(input_str)\n",
    "\n",
    "    # traverse generated ordered dictionary and match keys with individual character of pattern string\n",
    "    ptr = 0\n",
    "    for key,value in dict.items():\n",
    "        if (key == pattern[ptr]):\n",
    "            ptr = ptr + 1\n",
    "\n",
    "        # check if we have reached the end of pattern string\n",
    "        if (ptr == (len(pattern))):\n",
    "            return True\n",
    "\n",
    "    # if we come out from for loop that means order was not found\n",
    "    return False\n",
    "string=input('Enter a string:')\n",
    "pat=input('Enter pattern string to check:')\n",
    "if check_order(string,pat):\n",
    "    print('Pattern matches with the string.')\n",
    "else:\n",
    "    print(\"Pattern doesn't match.\")"
   ]
  },
  {
   "cell_type": "markdown",
   "id": "35a16d6e",
   "metadata": {},
   "source": [
    "7. Write a Python program to sort Python Dictionaries by Key or Value."
   ]
  },
  {
   "cell_type": "code",
   "execution_count": 22,
   "id": "8b730560",
   "metadata": {},
   "outputs": [
    {
     "name": "stdout",
     "output_type": "stream",
     "text": [
      "Input Dictionary: {1: 'apple', 3: 'kiwi', 2: 'strawberry', 5: 'banana'}\n",
      "Sorted by key: [(1, 'apple'), (2, 'strawberry'), (3, 'kiwi'), (5, 'banana')]\n",
      "Sorted by values: [(1, 'apple'), (5, 'banana'), (3, 'kiwi'), (2, 'strawberry')]\n"
     ]
    }
   ],
   "source": [
    "dict1={1:'apple',3:'kiwi',2:'strawberry',5:'banana'}\n",
    "# sort by key\n",
    "print('Input Dictionary:',dict1)\n",
    "print('Sorted by key:',sorted(dict1.items()))\n",
    "# sort by value\n",
    "sorted_d = sorted(dict1.items(), key=lambda x: x[1])\n",
    "print('Sorted by values:',sorted_d)"
   ]
  }
 ],
 "metadata": {
  "kernelspec": {
   "display_name": "Python 3 (ipykernel)",
   "language": "python",
   "name": "python3"
  },
  "language_info": {
   "codemirror_mode": {
    "name": "ipython",
    "version": 3
   },
   "file_extension": ".py",
   "mimetype": "text/x-python",
   "name": "python",
   "nbconvert_exporter": "python",
   "pygments_lexer": "ipython3",
   "version": "3.11.2"
  }
 },
 "nbformat": 4,
 "nbformat_minor": 5
}
