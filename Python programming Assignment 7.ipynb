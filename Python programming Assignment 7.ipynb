{
 "cells": [
  {
   "cell_type": "markdown",
   "id": "ca2712ce",
   "metadata": {},
   "source": [
    "# S Venkatesh Kumar\n",
    "# Python Programming Assignment 7"
   ]
  },
  {
   "cell_type": "markdown",
   "id": "8e4cc590",
   "metadata": {},
   "source": [
    "1.\tWrite a Python Program to find sum of array?"
   ]
  },
  {
   "cell_type": "code",
   "execution_count": 2,
   "id": "7985966e",
   "metadata": {},
   "outputs": [
    {
     "name": "stdout",
     "output_type": "stream",
     "text": [
      "Enter elements of the array separated by space:1 2 3 4 5 6\n",
      "Sum of array: [1 2 3 4 5 6] is: 21\n"
     ]
    }
   ],
   "source": [
    "#This program gives the sum of input array\n",
    "import numpy as np\n",
    "arr=np.array(input('Enter elements of the array separated by space:').split(),dtype=int)\n",
    "print('Sum of array:',arr,'is:',sum(arr))"
   ]
  },
  {
   "cell_type": "markdown",
   "id": "b1b2af79",
   "metadata": {},
   "source": [
    "2.\tWrite a Python Program to find largest element in an array?"
   ]
  },
  {
   "cell_type": "code",
   "execution_count": null,
   "id": "dee9fcb7",
   "metadata": {},
   "outputs": [],
   "source": [
    "# This program returns the largest element in the given array\n",
    "\n",
    "arr1=np.array(input('Enter elements of the array separeated by space:').split(),dtype=int)\n",
    "print(max(arr1))"
   ]
  },
  {
   "cell_type": "markdown",
   "id": "0004f484",
   "metadata": {},
   "source": [
    "3.\tWrite a Python Program for array rotation?"
   ]
  },
  {
   "cell_type": "code",
   "execution_count": 4,
   "id": "624d03ba",
   "metadata": {},
   "outputs": [
    {
     "name": "stdout",
     "output_type": "stream",
     "text": [
      "Enter elements of the array with spaces:1 4 5 8 9 6 3 2 1 4 7 8 9\n",
      "Enter the position number to rotate:5\n",
      "Array before rotation: [1 4 5 8 9 6 3 2 1 4 7 8 9]\n",
      "Array after rotation: [1 4 7 8 9 1 4 5 8 9 6 3 2]\n"
     ]
    }
   ],
   "source": [
    "# Array rotation\n",
    "arr2=np.array(input('Enter elements of the array with spaces:').split(),dtype=int)\n",
    "n=int(input('Enter the position number to rotate:'))\n",
    "print('Array before rotation:',arr2)\n",
    "arr3=np.append(arr2[-n:],arr2[:-n])\n",
    "\n",
    "print('Array after rotation:',arr3)"
   ]
  },
  {
   "cell_type": "markdown",
   "id": "79caa02b",
   "metadata": {},
   "source": [
    "4.\tWrite a Python Program to Split the array and add the first part to the end?"
   ]
  },
  {
   "cell_type": "code",
   "execution_count": 6,
   "id": "a8d8fcaf",
   "metadata": {},
   "outputs": [
    {
     "name": "stdout",
     "output_type": "stream",
     "text": [
      "Enter elements of the array with spaces:1 2 3 4 5 6 7 8 9 10\n",
      "initial Array: [ 1  2  3  4  5  6  7  8  9 10]\n",
      "After spliting and adding to the end: [ 6  7  8  9 10  1  2  3  4  5]\n"
     ]
    }
   ],
   "source": [
    "# Split the array and adding the first part to the end\n",
    "arr4=np.array(input('Enter elements of the array with spaces:').split(),dtype=int)\n",
    "mid=int(len(arr4)/2)\n",
    "print('initial Array:',arr4)\n",
    "arr5=np.append(arr4[-mid:],arr4[:-mid])\n",
    "print('After spliting and adding to the end:',arr5)"
   ]
  },
  {
   "cell_type": "markdown",
   "id": "00400dae",
   "metadata": {},
   "source": [
    "5.\tWrite a Python Program to check if given array is Monotonic?"
   ]
  },
  {
   "cell_type": "code",
   "execution_count": 13,
   "id": "c22ec5c2",
   "metadata": {},
   "outputs": [
    {
     "name": "stdout",
     "output_type": "stream",
     "text": [
      "Enter elements of the array with spaces:9 8 7 4 5 6 3 2 5\n",
      "The array [9 8 7 4 5 6 3 2 5] is not monotonic.\n"
     ]
    }
   ],
   "source": [
    "# Check the array for monotonic\n",
    "arr6=np.array(input('Enter elements of the array with spaces:').split(),dtype=int)\n",
    "inc=dec=0\n",
    "for i in range(len(arr6)-1):\n",
    "    if arr6[i]>arr6[i+1]:\n",
    "        inc+=1\n",
    "    else:\n",
    "        dec+=1\n",
    "\n",
    "if (inc==0 and dec==len(arr6)-1) or (inc==len(arr6)-1 and dec ==0):\n",
    "    print('The array',arr6,'is monotonic.')\n",
    "else:\n",
    "    print('The array',arr6,'is not monotonic.')\n"
   ]
  },
  {
   "cell_type": "code",
   "execution_count": null,
   "id": "4123d3a3",
   "metadata": {},
   "outputs": [],
   "source": []
  },
  {
   "cell_type": "code",
   "execution_count": null,
   "id": "2862b4cf",
   "metadata": {},
   "outputs": [],
   "source": []
  }
 ],
 "metadata": {
  "kernelspec": {
   "display_name": "Python 3 (ipykernel)",
   "language": "python",
   "name": "python3"
  },
  "language_info": {
   "codemirror_mode": {
    "name": "ipython",
    "version": 3
   },
   "file_extension": ".py",
   "mimetype": "text/x-python",
   "name": "python",
   "nbconvert_exporter": "python",
   "pygments_lexer": "ipython3",
   "version": "3.11.2"
  }
 },
 "nbformat": 4,
 "nbformat_minor": 5
}
