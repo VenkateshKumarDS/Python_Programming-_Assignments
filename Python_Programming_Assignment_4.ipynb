{
 "cells": [
  {
   "cell_type": "markdown",
   "id": "43bfc9bf",
   "metadata": {},
   "source": [
    "# S. Venkatesh Kumar\n",
    "# Python Programming Assignment 4"
   ]
  },
  {
   "cell_type": "markdown",
   "id": "e944f93c",
   "metadata": {},
   "source": [
    "1.\tWrite a Python Program to Find the Factorial of a Number?"
   ]
  },
  {
   "cell_type": "code",
   "execution_count": 4,
   "id": "3de7c372",
   "metadata": {},
   "outputs": [
    {
     "name": "stdout",
     "output_type": "stream",
     "text": [
      "Enter an integer to find the factorial:5\n",
      "Factorial of 5 is: 120\n"
     ]
    }
   ],
   "source": [
    "# This program returns factorial of the given number\n",
    "def factorial(n):\n",
    "    '''This function returns factorial of the given number'''\n",
    "    if n==1 or n==0:\n",
    "        return 1\n",
    "    else:\n",
    "        return (n*factorial(n-1))\n",
    "\n",
    "num=int(input('Enter an integer to find the factorial:'))\n",
    "print('Factorial of',num,'is:',factorial(5))"
   ]
  },
  {
   "cell_type": "markdown",
   "id": "57f29759",
   "metadata": {},
   "source": [
    "2.\tWrite a Python Program to Display the multiplication Table?"
   ]
  },
  {
   "cell_type": "code",
   "execution_count": 16,
   "id": "2487f9f1",
   "metadata": {},
   "outputs": [
    {
     "name": "stdout",
     "output_type": "stream",
     "text": [
      "Enter which mulitplication table:5\n",
      "Enter the limit of mulitplication table:10\n",
      "5 x 1 = 5\n",
      "5 x 2 = 10\n",
      "5 x 3 = 15\n",
      "5 x 4 = 20\n",
      "5 x 5 = 25\n",
      "5 x 6 = 30\n",
      "5 x 7 = 35\n",
      "5 x 8 = 40\n",
      "5 x 9 = 45\n",
      "5 x 10 = 50\n"
     ]
    }
   ],
   "source": [
    "# Program to Display the multiplication Table\n",
    "mul=int(input('Enter which mulitplication table:'))\n",
    "lim=int(input('Enter the limit of mulitplication table:'))\n",
    "\n",
    "def multi(num,limit):\n",
    "    ''' This function gives the multiplication table. Enter which table in first value and limit as second value'''\n",
    "    for i in range(1,limit+1):\n",
    "        print (num,'x',i, '=',i*num)\n",
    "\n",
    "multi(mul,lim)\n"
   ]
  },
  {
   "cell_type": "markdown",
   "id": "00e645a0",
   "metadata": {},
   "source": [
    "3.\tWrite a Python Program to Print the Fibonacci sequence?"
   ]
  },
  {
   "cell_type": "code",
   "execution_count": 22,
   "id": "94649c73",
   "metadata": {},
   "outputs": [
    {
     "name": "stdout",
     "output_type": "stream",
     "text": [
      "Enter limit of Fibonacci series:5\n",
      "1 \n",
      " 1\n",
      "2\n",
      "3\n",
      "5\n"
     ]
    }
   ],
   "source": [
    "# Fibonacci Series\n",
    "\n",
    "num=int(input('Enter limit of Fibonacci series:'))\n",
    "def fibo(x):\n",
    "    a=b=1\n",
    "    print(a,'\\n',b)\n",
    "    #print(b)\n",
    "    for i in range(x-2):\n",
    "        c=a+b\n",
    "        print(c)\n",
    "        a=b;b=c\n",
    "\n",
    "fibo(num)"
   ]
  },
  {
   "cell_type": "markdown",
   "id": "797db75a",
   "metadata": {},
   "source": [
    "4.\tWrite a Python Program to Check Armstrong Number?"
   ]
  },
  {
   "cell_type": "code",
   "execution_count": 31,
   "id": "76dac16b",
   "metadata": {},
   "outputs": [
    {
     "name": "stdout",
     "output_type": "stream",
     "text": [
      "Enter a number to check for armstrong or not:5\n",
      "5 is an Armstrong number.\n"
     ]
    }
   ],
   "source": [
    "# Armstrong number\n",
    "def Armstrong(num):\n",
    "    '''This function returns whether the given number is an armstrong number or not'''\n",
    "    b=str(num)\n",
    "    c=len(b)\n",
    "    arm=0\n",
    "    for i in b:\n",
    "        arm+=int(i)**c\n",
    "    if arm==num:\n",
    "        return True \n",
    "    else:\n",
    "        return False\n",
    "\n",
    "a=int(input('Enter a number to check for armstrong or not:'))\n",
    "\n",
    "if Armstrong(a):\n",
    "    print(a,'is an Armstrong number.')\n",
    "else:\n",
    "    print (a,'is not an Armstrong number.')\n"
   ]
  },
  {
   "cell_type": "markdown",
   "id": "395f556a",
   "metadata": {},
   "source": [
    "5.\tWrite a Python Program to Find Armstrong Number in an Interval?"
   ]
  },
  {
   "cell_type": "code",
   "execution_count": 34,
   "id": "14afa37c",
   "metadata": {},
   "outputs": [
    {
     "name": "stdout",
     "output_type": "stream",
     "text": [
      "Enter starting number:10\n",
      "Enter ending number:10000\n",
      "List of Armstrong Numbers between 10 and 10000 are: [153, 370, 371, 407, 1634, 8208, 9474]\n"
     ]
    }
   ],
   "source": [
    "start=int(input('Enter starting number:'))\n",
    "end=int(input('Enter ending number:'))\n",
    "arms=[]\n",
    "for i in range(start,end+1):\n",
    "    if Armstrong(i):\n",
    "        arms.append(i)\n",
    "print('List of Armstrong Numbers between',start,'and',end,'are:',arms)"
   ]
  },
  {
   "cell_type": "markdown",
   "id": "2eb1b707",
   "metadata": {},
   "source": [
    "6.\tWrite a Python Program to Find the Sum of Natural Numbers?"
   ]
  },
  {
   "cell_type": "code",
   "execution_count": 38,
   "id": "9d76accb",
   "metadata": {},
   "outputs": [
    {
     "name": "stdout",
     "output_type": "stream",
     "text": [
      "Enter \"n\" value to find sum of \"n\" natural numbers:5\n",
      "Sum of first 5 natural numbers is: 10\n"
     ]
    }
   ],
   "source": [
    "# Sum of natural numbers.\n",
    "def Sum_Natural(n):\n",
    "    a=0\n",
    "    for i in range(n):\n",
    "        a+=i\n",
    "    return a\n",
    "\n",
    "n=int(input('Enter \"n\" value to find sum of \"n\" natural numbers:'))\n",
    "print ('Sum of first',n,'natural numbers is:',Sum_Natural(n))\n"
   ]
  },
  {
   "cell_type": "code",
   "execution_count": null,
   "id": "913e4e16",
   "metadata": {},
   "outputs": [],
   "source": []
  }
 ],
 "metadata": {
  "kernelspec": {
   "display_name": "Python 3 (ipykernel)",
   "language": "python",
   "name": "python3"
  },
  "language_info": {
   "codemirror_mode": {
    "name": "ipython",
    "version": 3
   },
   "file_extension": ".py",
   "mimetype": "text/x-python",
   "name": "python",
   "nbconvert_exporter": "python",
   "pygments_lexer": "ipython3",
   "version": "3.11.2"
  }
 },
 "nbformat": 4,
 "nbformat_minor": 5
}
