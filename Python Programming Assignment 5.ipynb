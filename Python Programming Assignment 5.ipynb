{
 "cells": [
  {
   "cell_type": "markdown",
   "id": "5d0fdad9",
   "metadata": {},
   "source": [
    "# S. Venkatesh Kumar\n",
    "# MLBootCamp - Python Programming Assignment 5"
   ]
  },
  {
   "cell_type": "markdown",
   "id": "aa2cbc98",
   "metadata": {},
   "source": [
    "1.\tWrite a Python Program to Find LCM?"
   ]
  },
  {
   "cell_type": "code",
   "execution_count": 1,
   "id": "6db241eb",
   "metadata": {},
   "outputs": [
    {
     "name": "stdout",
     "output_type": "stream",
     "text": [
      "5 8\n"
     ]
    },
    {
     "data": {
      "text/plain": [
       "40"
      ]
     },
     "execution_count": 1,
     "metadata": {},
     "output_type": "execute_result"
    }
   ],
   "source": [
    "# This program finds LCM between two numbers\n",
    "x,y=map(int,input().split())\n",
    "def lcm(n1,n2):\n",
    "    if n1<n2:\n",
    "        g=n1\n",
    "    else:\n",
    "        g=n2\n",
    "    while True:\n",
    "        if ((g%n1 == 0) and (g%n2==0)):\n",
    "            l=g\n",
    "            break\n",
    "        g+=1\n",
    "    return(l)\n",
    "       \n",
    "lcm(x,y)   "
   ]
  },
  {
   "cell_type": "markdown",
   "id": "e6c547f5",
   "metadata": {},
   "source": [
    "2.\tWrite a Python Program to Find HCF?"
   ]
  },
  {
   "cell_type": "code",
   "execution_count": 2,
   "id": "f12639f3",
   "metadata": {},
   "outputs": [
    {
     "name": "stdout",
     "output_type": "stream",
     "text": [
      "8 9\n",
      "HCF of 8 and 9 is: 1\n"
     ]
    }
   ],
   "source": [
    "# This program finds HCF (Highest Common Factor) between 2 nos.\n",
    "a,b=map(int,input().split())\n",
    "def HCF(n1,n2):\n",
    "    while n2:\n",
    "        n1,n2=n2,n1%n2\n",
    "    return n1\n",
    "print('HCF of',a,'and',b,'is:',HCF(a,b))"
   ]
  },
  {
   "cell_type": "markdown",
   "id": "0648b9ba",
   "metadata": {},
   "source": [
    "3.\tWrite a Python Program to Convert Decimal to Binary, Octal and Hexadecimal?"
   ]
  },
  {
   "cell_type": "code",
   "execution_count": 13,
   "id": "3d911b1c",
   "metadata": {},
   "outputs": [
    {
     "name": "stdout",
     "output_type": "stream",
     "text": [
      "Enter a decimal value to convert to binary:1000\n",
      "Binary value of 1000 is: 1111101000\n",
      "Octal value of 1000 is: 1750\n",
      "Hexadecimal value of 1000 is: 3E8\n"
     ]
    }
   ],
   "source": [
    "deci=int(input('Enter a decimal value to convert to binary:'))\n",
    "def binary(a):\n",
    "    '''This function returns binary value of given decimal number'''\n",
    "    bi=''\n",
    "    while a:\n",
    "        bi+=str(a%2)\n",
    "        a=int(a/2)\n",
    "    return bi[::-1]\n",
    "\n",
    "def octal(b):\n",
    "    '''This function returns octal value of given decimal number'''\n",
    "    oct=''\n",
    "    while b:\n",
    "        oct+=str(b%8)\n",
    "        b=int(b/8)\n",
    "    return oct[::-1]\n",
    "\n",
    "def hexa(c):\n",
    "    '''This function returns hexadecimal value of the give decimal number '''\n",
    "    # the following dictionary is used to convert the values to get correct hexadecimal code\n",
    "    conv={0:'0',1:'1',2:'2',3:'3',4:'4',5:'5',6:'6',7:'7',8:'8',9:'9',\n",
    "         10:'A',11:'B',12:'C',13:'D',14:'E',15:'F'}\n",
    "    \n",
    "    hdeci=''\n",
    "    while c:\n",
    "        rem=c%16\n",
    "        hdeci+=conv[rem]\n",
    "        c=int(c/16)\n",
    "    return hdeci[::-1]\n",
    "\n",
    "\n",
    "print('Binary value of',deci,'is:',binary(deci))\n",
    "print('Octal value of',deci,'is:',octal(deci))\n",
    "print('Hexadecimal value of',deci,'is:',hexa(deci))"
   ]
  },
  {
   "cell_type": "markdown",
   "id": "98efb5cd",
   "metadata": {},
   "source": [
    "4.\tWrite a Python Program To Find ASCII value of a character?"
   ]
  },
  {
   "cell_type": "code",
   "execution_count": 17,
   "id": "0c4d2634",
   "metadata": {},
   "outputs": [
    {
     "name": "stdout",
     "output_type": "stream",
     "text": [
      "Enter a character to find the ASCII value:lop\n",
      "The ASCII value of l is: 108\n"
     ]
    }
   ],
   "source": [
    "# This program prints the ASCII value of the characters given as input.\n",
    "ch=input('Enter a character to find the ASCII value:')[0]\n",
    "print('The ASCII value of',ch,'is:',ord(ch))"
   ]
  },
  {
   "cell_type": "code",
   "execution_count": 23,
   "id": "936ddfdf",
   "metadata": {},
   "outputs": [
    {
     "name": "stdout",
     "output_type": "stream",
     "text": [
      "Enter first number:59\n",
      "Enter second number:5\n",
      "Enter option: \n",
      "            1 - Addition,\n",
      "            2 - Subtraction,\n",
      "            3 - Multiplication,\n",
      "            4 - Division\n",
      "           -->4\n",
      "59 / 5 = 11.8\n"
     ]
    }
   ],
   "source": [
    "class calculator():\n",
    "    def __init__(self,x,y):\n",
    "        self.x=x\n",
    "        self.y=y\n",
    "    def ADD(self):\n",
    "        return self.x + self.y\n",
    "    def SUB(self):\n",
    "        return self.x - self.y\n",
    "    def MULTIPLY(self):\n",
    "        return self.x * self.y\n",
    "    def DIVIDE(self):\n",
    "        return self.x / self.y\n",
    "a=int(input('Enter first number:'))\n",
    "b=int(input('Enter second number:'))\n",
    "\n",
    "obj=calculator(a,b)\n",
    "c=int(input('''Enter option: \n",
    "            1 - Addition,\n",
    "            2 - Subtraction,\n",
    "            3 - Multiplication,\n",
    "            4 - Division\n",
    "           -->'''))\n",
    "if c==1:\n",
    "    print(a,'+',b,'=',obj.ADD())\n",
    "elif c==2:\n",
    "    print(a,'-',b,'=',obj.SUB())\n",
    "elif c==3:\n",
    "    print(a,'x',b,'=',obj.MULTIPLY())\n",
    "elif c==4:\n",
    "    print(a,'/',b,'=',obj.DIVIDE())    \n",
    "\n",
    "    "
   ]
  },
  {
   "cell_type": "code",
   "execution_count": null,
   "id": "b9277bca",
   "metadata": {},
   "outputs": [],
   "source": []
  },
  {
   "cell_type": "code",
   "execution_count": null,
   "id": "eb357592",
   "metadata": {},
   "outputs": [],
   "source": []
  }
 ],
 "metadata": {
  "kernelspec": {
   "display_name": "Python 3 (ipykernel)",
   "language": "python",
   "name": "python3"
  },
  "language_info": {
   "codemirror_mode": {
    "name": "ipython",
    "version": 3
   },
   "file_extension": ".py",
   "mimetype": "text/x-python",
   "name": "python",
   "nbconvert_exporter": "python",
   "pygments_lexer": "ipython3",
   "version": "3.11.2"
  }
 },
 "nbformat": 4,
 "nbformat_minor": 5
}
