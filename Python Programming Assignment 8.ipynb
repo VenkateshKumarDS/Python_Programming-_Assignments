{
 "cells": [
  {
   "cell_type": "markdown",
   "id": "69c7e30a",
   "metadata": {},
   "source": [
    "# S Venkatesh Kumar\n",
    "# Python Programming Assignment 8"
   ]
  },
  {
   "cell_type": "markdown",
   "id": "13bff283",
   "metadata": {},
   "source": [
    "1.\tWrite a Python Program to Add Two Matrices."
   ]
  },
  {
   "cell_type": "code",
   "execution_count": 5,
   "id": "3c08f9c8",
   "metadata": {},
   "outputs": [
    {
     "name": "stdout",
     "output_type": "stream",
     "text": [
      "Matrix 1:\n",
      " [[1 2 3]\n",
      " [4 5 6]\n",
      " [7 8 9]]\n",
      "Matrix 2:\n",
      " [[10 11 12]\n",
      " [13 14 15]\n",
      " [16 17 18]]\n",
      "Matrix 1 + Matrix 2\n",
      " [[11 13 15]\n",
      " [17 19 21]\n",
      " [23 25 27]]\n"
     ]
    }
   ],
   "source": [
    "import numpy as np\n",
    "ar1=np.array([[1,2,3],[4,5,6],[7,8,9]])\n",
    "ar2=np.array([[10,11,12],[13,14,15],[16,17,18]])\n",
    "print('Matrix 1:\\n',ar1)\n",
    "print('Matrix 2:\\n',ar2)\n",
    "print('Matrix 1 + Matrix 2\\n',ar1+ar2)"
   ]
  },
  {
   "cell_type": "markdown",
   "id": "9a99a0a5",
   "metadata": {},
   "source": [
    "2.\tWrite a Python Program to Multiply Two Matrices."
   ]
  },
  {
   "cell_type": "code",
   "execution_count": 8,
   "id": "44acb470",
   "metadata": {},
   "outputs": [
    {
     "name": "stdout",
     "output_type": "stream",
     "text": [
      "Matrix 1:\n",
      " [[1 2 3]\n",
      " [4 5 6]\n",
      " [7 8 9]]\n",
      "Matrix 2:\n",
      " [[10 11 12]\n",
      " [13 14 15]\n",
      " [16 17 18]]\n",
      "Matrix 1 x Matrix 2\n",
      " [[ 84  90  96]\n",
      " [201 216 231]\n",
      " [318 342 366]]\n"
     ]
    }
   ],
   "source": [
    "ar1=np.array([[1,2,3],[4,5,6],[7,8,9]])\n",
    "ar2=np.array([[10,11,12],[13,14,15],[16,17,18]])\n",
    "print('Matrix 1:\\n',ar1)\n",
    "print('Matrix 2:\\n',ar2)\n",
    "print('Matrix 1 x Matrix 2\\n',np.matmul(ar1, ar2))\n"
   ]
  },
  {
   "cell_type": "markdown",
   "id": "17f4bcaa",
   "metadata": {},
   "source": [
    "3.\tWrite a Python Program to Transpose a Matrix."
   ]
  },
  {
   "cell_type": "code",
   "execution_count": 10,
   "id": "53c5360c",
   "metadata": {},
   "outputs": [
    {
     "name": "stdout",
     "output_type": "stream",
     "text": [
      "Matrix before Transpose.\n",
      " [[1 2 3]\n",
      " [4 5 6]\n",
      " [7 8 9]]\n",
      "After Transpose\n",
      " [[1 4 7]\n",
      " [2 5 8]\n",
      " [3 6 9]]\n"
     ]
    }
   ],
   "source": [
    "# Transose of a Matrix\n",
    "print('Matrix before Transpose.\\n',ar1)\n",
    "print('After Transpose\\n',np.transpose(ar1))"
   ]
  },
  {
   "cell_type": "markdown",
   "id": "4831c8ce",
   "metadata": {},
   "source": [
    "4.\tWrite a Python Program to Sort Words in Alphabetic Order."
   ]
  },
  {
   "cell_type": "code",
   "execution_count": 15,
   "id": "e7c30972",
   "metadata": {},
   "outputs": [
    {
     "name": "stdout",
     "output_type": "stream",
     "text": [
      "Enter how many words?5\n",
      "1 Enter word:zzzz\n",
      "2 Enter word:ttttt\n",
      "3 Enter word:lllll\n",
      "4 Enter word:aaaaa\n",
      "5 Enter word:ooooo\n",
      "Sorted Words\n",
      "aaaaa\n",
      "lllll\n",
      "ooooo\n",
      "ttttt\n",
      "zzzz\n"
     ]
    }
   ],
   "source": [
    "# Program to sort words in alphabetical order\n",
    "n=int(input('Enter how many words?'))\n",
    "words=[]\n",
    "for i in range(n):\n",
    "    a=input(f'{i+1} Enter word:')\n",
    "    words.append(a)\n",
    "words.sort()\n",
    "print('Sorted Words')\n",
    "for j in words:\n",
    "    print(j)\n"
   ]
  },
  {
   "cell_type": "markdown",
   "id": "4fa23a8c",
   "metadata": {},
   "source": [
    "5.\tWrite a Python Program to Remove Punctuation From a String."
   ]
  },
  {
   "cell_type": "code",
   "execution_count": 16,
   "id": "463a80f6",
   "metadata": {},
   "outputs": [
    {
     "name": "stdout",
     "output_type": "stream",
     "text": [
      "Enter a string with punctuation to remove:Hello! How are you doing today?\n",
      "After removing punctuations: Hello How are you doing today\n"
     ]
    }
   ],
   "source": [
    "# Remove punctuation from a string\n",
    "import string\n",
    "def punctuation_remove(a):\n",
    "    for i in string.punctuation:\n",
    "        a=a.replace(i,'')\n",
    "    return a\n",
    "input_str=input('Enter a string with punctuation to remove:')\n",
    "print('After removing punctuations:',punctuation_remove(input_str))"
   ]
  },
  {
   "cell_type": "code",
   "execution_count": null,
   "id": "7bbf893a",
   "metadata": {},
   "outputs": [],
   "source": []
  }
 ],
 "metadata": {
  "kernelspec": {
   "display_name": "Python 3 (ipykernel)",
   "language": "python",
   "name": "python3"
  },
  "language_info": {
   "codemirror_mode": {
    "name": "ipython",
    "version": 3
   },
   "file_extension": ".py",
   "mimetype": "text/x-python",
   "name": "python",
   "nbconvert_exporter": "python",
   "pygments_lexer": "ipython3",
   "version": "3.11.2"
  }
 },
 "nbformat": 4,
 "nbformat_minor": 5
}
