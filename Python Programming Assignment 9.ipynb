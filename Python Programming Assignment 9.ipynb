{
 "cells": [
  {
   "cell_type": "markdown",
   "id": "fde13bab",
   "metadata": {},
   "source": [
    "# S Venkatesh Kumar\n",
    "# Python Programming Assignment 9"
   ]
  },
  {
   "cell_type": "markdown",
   "id": "56855271",
   "metadata": {},
   "source": [
    "1.\tWrite a Python program to check if the given number is a Disarium Number."
   ]
  },
  {
   "cell_type": "code",
   "execution_count": 17,
   "id": "bf252fe3",
   "metadata": {},
   "outputs": [
    {
     "name": "stdout",
     "output_type": "stream",
     "text": [
      "Enter a number:45\n",
      "No! 45 is not a disarium number.\n"
     ]
    }
   ],
   "source": [
    "# Disarium Number\n",
    "def disarium(n):\n",
    "    '''This function returns whether the given number is disarium or not'''\n",
    "    a=str(n)\n",
    "    b=len(a)\n",
    "    add=0\n",
    "    for i in range(b):\n",
    "        add+=int(a[i])**(i+1)\n",
    "    if add == n:\n",
    "        return True\n",
    "    else:\n",
    "        return False\n",
    "        \n",
    "num=int(input('Enter a number:'))\n",
    "if disarium(num): \n",
    "    print('Yes!',num,'is a disarium number.')\n",
    "else:\n",
    "    print('No!',num,'is not a disarium number.')"
   ]
  },
  {
   "cell_type": "markdown",
   "id": "f829e806",
   "metadata": {},
   "source": [
    "2.\tWrite a Python program to print all disarium numbers between 1 to 100."
   ]
  },
  {
   "cell_type": "code",
   "execution_count": 19,
   "id": "1a5aecc9",
   "metadata": {},
   "outputs": [
    {
     "name": "stdout",
     "output_type": "stream",
     "text": [
      "List of disarium numbers frm 1 to 100: [1, 2, 3, 4, 5, 6, 7, 8, 9, 89]\n"
     ]
    }
   ],
   "source": [
    "# Print all disarium numbers between 1 to 100.\n",
    "dis=[]\n",
    "for i in range(1,101):\n",
    "    if disarium(i):\n",
    "        dis.append(i)\n",
    "print('List of disarium numbers frm 1 to 100:',dis)"
   ]
  },
  {
   "cell_type": "markdown",
   "id": "24bdc8c2",
   "metadata": {},
   "source": [
    "3.\tWrite a Python program to check if the given number is Happy Number."
   ]
  },
  {
   "cell_type": "code",
   "execution_count": 32,
   "id": "0d3cf738",
   "metadata": {},
   "outputs": [
    {
     "name": "stdout",
     "output_type": "stream",
     "text": [
      "Enter a number:82\n",
      "Yes! 82 is a happy number.\n"
     ]
    }
   ],
   "source": [
    "# Happy number\n",
    "def happy_num(n):\n",
    "    '''This function gives whether the given number is a happy number or not.'''\n",
    "    seen = set()\n",
    "    while n != 1:\n",
    "        n = sum(int(i) ** 2 for i in str(n))\n",
    "        if n in seen:\n",
    "            return False\n",
    "        seen.add(n)\n",
    "    return True\n",
    "\n",
    "num=int(input('Enter a number:'))\n",
    "if happy_num(num):\n",
    "    print('Yes!',num,'is a happy number.')\n",
    "else:\n",
    "    print('No!',num,'is not a happy number.')"
   ]
  },
  {
   "cell_type": "markdown",
   "id": "6e122f80",
   "metadata": {},
   "source": [
    "4.\tWrite a Python program to print all happy numbers between 1 and 100."
   ]
  },
  {
   "cell_type": "code",
   "execution_count": 35,
   "id": "e7c3860a",
   "metadata": {},
   "outputs": [
    {
     "name": "stdout",
     "output_type": "stream",
     "text": [
      "Happy numbers between 1 and 100:\n",
      " [1, 7, 10, 13, 19, 23, 28, 31, 32, 44, 49, 68, 70, 79, 82, 86, 91, 94, 97, 100]\n"
     ]
    }
   ],
   "source": [
    "# Happy numbers from 1 to 100\n",
    "happy=[]\n",
    "for i in range(1,101):\n",
    "    if happy_num(i):\n",
    "        happy.append(i)\n",
    "print('Happy numbers between 1 and 100:\\n',happy)"
   ]
  },
  {
   "cell_type": "markdown",
   "id": "7fc10996",
   "metadata": {},
   "source": [
    "5.\tWrite a Python program to determine whether the given number is a Harshad Number."
   ]
  },
  {
   "cell_type": "code",
   "execution_count": 38,
   "id": "31ee1158",
   "metadata": {},
   "outputs": [
    {
     "name": "stdout",
     "output_type": "stream",
     "text": [
      "Enter a number:18\n",
      "Yes! 18 is a harshad number.\n"
     ]
    }
   ],
   "source": [
    "# Program to check whether a given number is a harshad number.\n",
    "def harshad(n):\n",
    "    '''This function returns whether the given number is harshad or not'''\n",
    "    return n%sum(int(i) for i in str(n)) == 0\n",
    "\n",
    "num=int(input('Enter a number:'))\n",
    "if harshad(num):\n",
    "    print('Yes!',num,'is a harshad number.')\n",
    "else:\n",
    "    print('No!',num,'is not a harshad number.')"
   ]
  },
  {
   "cell_type": "markdown",
   "id": "748cb695",
   "metadata": {},
   "source": [
    "6.\tWrite a Python program to print all pronic numbers between 1 and 100."
   ]
  },
  {
   "cell_type": "code",
   "execution_count": 55,
   "id": "64f66a72",
   "metadata": {},
   "outputs": [
    {
     "name": "stdout",
     "output_type": "stream",
     "text": [
      "Pronic numbers between 1 and 100: [2, 6, 12, 20, 30, 42, 56, 72, 90]\n"
     ]
    }
   ],
   "source": [
    "# Pronic numbers between 1 and 100\n",
    "def pronic(n):\n",
    "    '''This function returns whether the input number is pronic or not'''\n",
    "    for i in range(n):\n",
    "        if i*(i+1)==n:\n",
    "            return True\n",
    "    return False\n",
    "pro=[]\n",
    "for j in range(1,101):\n",
    "    if pronic(j):\n",
    "        pro.append(j)\n",
    "print('Pronic numbers between 1 and 100:',pro)"
   ]
  },
  {
   "cell_type": "code",
   "execution_count": null,
   "id": "a3093604",
   "metadata": {},
   "outputs": [],
   "source": []
  }
 ],
 "metadata": {
  "kernelspec": {
   "display_name": "Python 3 (ipykernel)",
   "language": "python",
   "name": "python3"
  },
  "language_info": {
   "codemirror_mode": {
    "name": "ipython",
    "version": 3
   },
   "file_extension": ".py",
   "mimetype": "text/x-python",
   "name": "python",
   "nbconvert_exporter": "python",
   "pygments_lexer": "ipython3",
   "version": "3.11.2"
  }
 },
 "nbformat": 4,
 "nbformat_minor": 5
}
