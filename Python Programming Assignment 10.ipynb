{
 "cells": [
  {
   "cell_type": "markdown",
   "id": "e451e4dd",
   "metadata": {},
   "source": [
    "# S Venkatesh Kumar\n",
    "# Python Programming Assignment 10"
   ]
  },
  {
   "cell_type": "markdown",
   "id": "7dc05b43",
   "metadata": {},
   "source": [
    "1.\tWrite a Python program to find sum of elements in list."
   ]
  },
  {
   "cell_type": "code",
   "execution_count": 2,
   "id": "4bf48b26",
   "metadata": {},
   "outputs": [
    {
     "name": "stdout",
     "output_type": "stream",
     "text": [
      "Enter elements of list with spaces:7 8 9 6 5 4 1 2 3\n",
      "Sum of list: 45\n"
     ]
    }
   ],
   "source": [
    "lst=list(map(int,input('Enter elements of list with spaces:').split()))\n",
    "print('Sum of list:',sum(lst))"
   ]
  },
  {
   "cell_type": "markdown",
   "id": "11387386",
   "metadata": {},
   "source": [
    "2.\tWrite a Python program to  Multiply all numbers in the list."
   ]
  },
  {
   "cell_type": "code",
   "execution_count": 3,
   "id": "3c3f8d36",
   "metadata": {},
   "outputs": [
    {
     "name": "stdout",
     "output_type": "stream",
     "text": [
      "Enter elements of list with spaces:1 2 3 4 5\n",
      "Product of all the elements in list: 120\n"
     ]
    }
   ],
   "source": [
    "lst1=list(map(int,input('Enter elements of list with spaces:').split()))\n",
    "prod=1\n",
    "for i in lst1:\n",
    "    prod*=i\n",
    "print('Product of all the elements in list:',prod)\n"
   ]
  },
  {
   "cell_type": "markdown",
   "id": "0026322b",
   "metadata": {},
   "source": [
    "3.\tWrite a Python program to find smallest number in a list."
   ]
  },
  {
   "cell_type": "code",
   "execution_count": 4,
   "id": "0ae9dc70",
   "metadata": {},
   "outputs": [
    {
     "name": "stdout",
     "output_type": "stream",
     "text": [
      "Enter elements of list with spaces:4 7 8 9 6 5 4\n",
      "The minimum number in the list is: 4\n"
     ]
    }
   ],
   "source": [
    "lst2=list(map(int,input('Enter elements of list with spaces:').split()))\n",
    "print('The minimum number in the list is:',min(lst2))\n"
   ]
  },
  {
   "cell_type": "markdown",
   "id": "7918c37a",
   "metadata": {},
   "source": [
    "4.\tWrite a Python program to find largest number in a list."
   ]
  },
  {
   "cell_type": "code",
   "execution_count": 5,
   "id": "6f9e64db",
   "metadata": {},
   "outputs": [
    {
     "name": "stdout",
     "output_type": "stream",
     "text": [
      "Enter elements of list with spaces:7 8 9 45 69 85 48 99\n",
      "The largest number in the list is: 99\n"
     ]
    }
   ],
   "source": [
    "lst3=list(map(int,input('Enter elements of list with spaces:').split()))\n",
    "print('The largest number in the list is:',max(lst3))"
   ]
  },
  {
   "cell_type": "markdown",
   "id": "56eab173",
   "metadata": {},
   "source": [
    "5.\tWrite a Python program to find second largest number in a list."
   ]
  },
  {
   "cell_type": "code",
   "execution_count": 11,
   "id": "a73eae5f",
   "metadata": {},
   "outputs": [
    {
     "name": "stdout",
     "output_type": "stream",
     "text": [
      "Enter elements of list with spaces:7 5 3 6 1 4 8 9 6 2 6 8\n",
      "Second largest number in the list is: 8\n"
     ]
    }
   ],
   "source": [
    "lst4=list(map(int,input('Enter elements of list with spaces:').split()))\n",
    "lst4.sort(reverse=True)\n",
    "st=list(set(lst4))\n",
    "print('Second largest number in the list is:',st[-2])\n",
    "\n"
   ]
  },
  {
   "cell_type": "markdown",
   "id": "c73b2151",
   "metadata": {},
   "source": [
    "6.\tWrite a Python program to find N largest elements from a list."
   ]
  },
  {
   "cell_type": "code",
   "execution_count": 17,
   "id": "a67e34af",
   "metadata": {},
   "outputs": [
    {
     "name": "stdout",
     "output_type": "stream",
     "text": [
      "Enter elements of list with spaces:1 5 9 7 4 1 6 8 9 6 3\n",
      "Enter n value to get n largest elements:5\n",
      "[1, 3, 4, 5, 6, 7, 8, 9]\n",
      "5 th largest number in the list is: [5, 6, 7, 8, 9]\n"
     ]
    }
   ],
   "source": [
    "lst5=list(map(int,input('Enter elements of list with spaces:').split()))\n",
    "lst5.sort(reverse=True)\n",
    "st1=list(set(lst5))\n",
    "n=int(input('Enter n value to get n largest elements:'))\n",
    "st1.sort()\n",
    "print(st1)\n",
    "print(n,'th largest number in the list is:',st1[-n])"
   ]
  },
  {
   "cell_type": "markdown",
   "id": "40d95bcf",
   "metadata": {},
   "source": [
    "7.\tWrite a Python program to print even numbers in a list?"
   ]
  },
  {
   "cell_type": "code",
   "execution_count": 18,
   "id": "76b1c1af",
   "metadata": {},
   "outputs": [
    {
     "name": "stdout",
     "output_type": "stream",
     "text": [
      "Enter elements of list with spaces:15 28 69 87 84 26 32 14\n",
      "Even nos in the list: [28, 84, 26, 32, 14]\n"
     ]
    }
   ],
   "source": [
    "lst6=list(map(int,input('Enter elements of list with spaces:').split()))\n",
    "even=[]\n",
    "for i in lst6:\n",
    "    if i%2 == 0:\n",
    "        even.append(i)\n",
    "print('Even nos in the list:',even)\n"
   ]
  },
  {
   "cell_type": "markdown",
   "id": "d5da0a92",
   "metadata": {},
   "source": [
    "8.\tWrite a Python program to print odd numbers in a List?"
   ]
  },
  {
   "cell_type": "code",
   "execution_count": 19,
   "id": "dccb9462",
   "metadata": {},
   "outputs": [
    {
     "name": "stdout",
     "output_type": "stream",
     "text": [
      "Enter elements of list with spaces:45 47 48 66 33 22 18\n",
      "Odd nos in the list: [45, 47, 33]\n"
     ]
    }
   ],
   "source": [
    "lst6=list(map(int,input('Enter elements of list with spaces:').split()))\n",
    "odd=[]\n",
    "for i in lst6:\n",
    "    if i%2 != 0:\n",
    "        odd.append(i)\n",
    "print('Odd nos in the list:',odd)"
   ]
  },
  {
   "cell_type": "markdown",
   "id": "8d7dacb3",
   "metadata": {},
   "source": [
    "9.\tWrite a Python program to Remove empty List from List?"
   ]
  },
  {
   "cell_type": "code",
   "execution_count": 22,
   "id": "e8b81847",
   "metadata": {},
   "outputs": [
    {
     "name": "stdout",
     "output_type": "stream",
     "text": [
      "List after removing empty list: [[1, 2, 3], [4, 5, 6], [8, 9, 5, 6]]\n"
     ]
    }
   ],
   "source": [
    "lst7=[[1,2,3],[4,5,6],[],[8,9,5,6]]\n",
    "new_list=[x for x in lst7 if len(x)!=0]\n",
    "print('List after removing empty list:',new_list)"
   ]
  },
  {
   "cell_type": "markdown",
   "id": "89b6e054",
   "metadata": {},
   "source": [
    "10.\tWrite a Python program to Cloning or Copying a list?"
   ]
  },
  {
   "cell_type": "code",
   "execution_count": 26,
   "id": "3818153b",
   "metadata": {},
   "outputs": [
    {
     "name": "stdout",
     "output_type": "stream",
     "text": [
      "Old list: [6, 8, 7, 4, 5, 6]\n",
      "Copied List: [6, 8, 7, 4, 5, 6]\n"
     ]
    }
   ],
   "source": [
    "lst8=[6,8,7,4,5,6]\n",
    "lst9=lst8.copy()\n",
    "print('Old list:',lst8)\n",
    "print('Copied List:',lst9)"
   ]
  },
  {
   "cell_type": "markdown",
   "id": "dd4b6d6f",
   "metadata": {},
   "source": [
    "11.\tWrite a Python program to Count occurrences of an element in a list?"
   ]
  },
  {
   "cell_type": "code",
   "execution_count": 29,
   "id": "fb075d78",
   "metadata": {},
   "outputs": [
    {
     "name": "stdout",
     "output_type": "stream",
     "text": [
      "Enter elements of list with spaces:1 2 3 6 5 4 1 2 3\n",
      "Occurences of elements in a list: Counter({1: 2, 2: 2, 3: 2, 6: 1, 5: 1, 4: 1})\n"
     ]
    }
   ],
   "source": [
    "import collections\n",
    "lst10=list(map(int,input('Enter elements of list with spaces:').split()))\n",
    "count_dct=collections.Counter(lst10)\n",
    "print('Occurences of elements in a list:',count_dct)"
   ]
  },
  {
   "cell_type": "code",
   "execution_count": null,
   "id": "b5443825",
   "metadata": {},
   "outputs": [],
   "source": []
  }
 ],
 "metadata": {
  "kernelspec": {
   "display_name": "Python 3 (ipykernel)",
   "language": "python",
   "name": "python3"
  },
  "language_info": {
   "codemirror_mode": {
    "name": "ipython",
    "version": 3
   },
   "file_extension": ".py",
   "mimetype": "text/x-python",
   "name": "python",
   "nbconvert_exporter": "python",
   "pygments_lexer": "ipython3",
   "version": "3.11.2"
  }
 },
 "nbformat": 4,
 "nbformat_minor": 5
}
