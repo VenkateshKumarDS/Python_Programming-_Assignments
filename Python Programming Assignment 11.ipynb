{
 "cells": [
  {
   "cell_type": "markdown",
   "id": "06ecf17f",
   "metadata": {},
   "source": [
    "# S Venkatesh Kumar\n",
    "# Python Programming Assignment 11"
   ]
  },
  {
   "cell_type": "markdown",
   "id": "f5a42db4",
   "metadata": {},
   "source": [
    "1.\tWrite a Python program to find words which are greater than given length k."
   ]
  },
  {
   "cell_type": "code",
   "execution_count": 3,
   "id": "2b59218f",
   "metadata": {},
   "outputs": [
    {
     "name": "stdout",
     "output_type": "stream",
     "text": [
      "Enter some words with spaces:apple python pandas mongodb samsung\n",
      "Enter length of the word:5\n",
      "List of words having length more than 5 : ['python', 'pandas', 'mongodb', 'samsung']\n"
     ]
    }
   ],
   "source": [
    "words=list(input('Enter some words with spaces:').split())\n",
    "k = int(input('Enter length of the word:'))\n",
    "new=[]\n",
    "for i in words:\n",
    "    if len(i)>k:\n",
    "        new.append(i)\n",
    "print('List of words having length more than',k,':',new)"
   ]
  },
  {
   "cell_type": "markdown",
   "id": "7f27f479",
   "metadata": {},
   "source": [
    "2.\tWrite a Python program for removing i-th character from a string."
   ]
  },
  {
   "cell_type": "code",
   "execution_count": 10,
   "id": "9b7e775d",
   "metadata": {},
   "outputs": [
    {
     "name": "stdout",
     "output_type": "stream",
     "text": [
      "Enter a string:stimulator\n",
      "Enter the position of character to remove:5\n",
      "String after removing 5 th character: stim lator\n"
     ]
    }
   ],
   "source": [
    "a=input('Enter a string:')\n",
    "b=int(input('Enter the position of character to remove:'))\n",
    "print('String after removing',b,'th character:',a[:b-1]+' '+a[b:])"
   ]
  },
  {
   "cell_type": "markdown",
   "id": "f5b7f89b",
   "metadata": {},
   "source": [
    "3.\tWrite a Python program to split and join a string?"
   ]
  },
  {
   "cell_type": "code",
   "execution_count": 12,
   "id": "4c6d532b",
   "metadata": {},
   "outputs": [
    {
     "name": "stdout",
     "output_type": "stream",
     "text": [
      "Enter a string:india english\n",
      "After spliting: ['india', 'english']\n",
      "After joining: india-english\n"
     ]
    }
   ],
   "source": [
    "a=input('Enter a string:')\n",
    "#spliting a string\n",
    "b=a.split()\n",
    "print('After spliting:',b)\n",
    "\n",
    "# joining a string\n",
    "c='-'.join(b)\n",
    "print('After joining:',c)"
   ]
  },
  {
   "cell_type": "markdown",
   "id": "1b8127ee",
   "metadata": {},
   "source": [
    "4.\tWrite a Python to check if a given string is binary string or not"
   ]
  },
  {
   "cell_type": "code",
   "execution_count": 50,
   "id": "96c597d4",
   "metadata": {},
   "outputs": [
    {
     "name": "stdout",
     "output_type": "stream",
     "text": [
      "Enter a string:101\n",
      "The given string 101 is binary.\n"
     ]
    }
   ],
   "source": [
    "# Program to check for binary string (Without using function)\n",
    "x=input('Enter a string:')\n",
    "for i in x:\n",
    "    if i != '0' and i != '1':\n",
    "        print('The given string',x,'is not a binary string.')\n",
    "        break\n",
    "else:\n",
    "    print('The given string',x,'is a binary string.')\n",
    "    "
   ]
  },
  {
   "cell_type": "code",
   "execution_count": 52,
   "id": "60e88a81",
   "metadata": {},
   "outputs": [
    {
     "name": "stdout",
     "output_type": "stream",
     "text": [
      "Enter a string to check for binary:1010\n",
      "The given string 1010 is binary.\n"
     ]
    }
   ],
   "source": [
    "# Program to check for binary string (With function)\n",
    "\n",
    "def is_binary(st):\n",
    "    '''This function checks whether the given string is in binary format or not.'''\n",
    "    for i in st:\n",
    "        if i != '0' and i != '1':\n",
    "            return False\n",
    "    return True\n",
    "s=input('Enter a string to check for binary:')\n",
    "if is_binary(s):\n",
    "    print('The given string',s,'is a binary string.')\n",
    "else:\n",
    "    print('The given string',s,'is not a binary string.')"
   ]
  },
  {
   "cell_type": "markdown",
   "id": "b1c0556c",
   "metadata": {},
   "source": [
    "5.\tWrite a Python program to find uncommon words from two Strings."
   ]
  },
  {
   "cell_type": "code",
   "execution_count": 62,
   "id": "01a083d5",
   "metadata": {},
   "outputs": [
    {
     "name": "stdout",
     "output_type": "stream",
     "text": [
      "Enter String 1:i love you\n",
      "Enter String 2:i hate you\n",
      "Uncommon Words: love hate\n"
     ]
    }
   ],
   "source": [
    "s1=input('Enter String 1:').split()\n",
    "s2=input('Enter String 2:').split()\n",
    "def uncommon_words(a,b):    \n",
    "    uncommon=[]\n",
    "    for i in a:\n",
    "        if i not in b:\n",
    "            uncommon.append(i)\n",
    "    for j in b:\n",
    "        if j not in a:\n",
    "            uncommon.append(j)\n",
    "    return uncommon\n",
    "\n",
    "print('Uncommon Words:',*uncommon_words(s1,s2))"
   ]
  },
  {
   "cell_type": "markdown",
   "id": "7272d710",
   "metadata": {},
   "source": [
    "6.\tWrite a Python to find all duplicate characters in string."
   ]
  },
  {
   "cell_type": "code",
   "execution_count": 67,
   "id": "b3d3f612",
   "metadata": {},
   "outputs": [
    {
     "name": "stdout",
     "output_type": "stream",
     "text": [
      "Enter the string:indiana\n",
      "The repeated characters in the given string indiana are: i n a\n"
     ]
    }
   ],
   "source": [
    "string=input('Enter the string:')\n",
    "dup=''\n",
    "for i in string:\n",
    "    if string.count(i)>1:\n",
    "        dup+=i\n",
    "print('The repeated characters in the given string',string,'are:',*set(dup))"
   ]
  },
  {
   "cell_type": "markdown",
   "id": "ffb8db9c",
   "metadata": {},
   "source": [
    "7. Write a Python Program to check if a string contains any special character."
   ]
  },
  {
   "cell_type": "code",
   "execution_count": 72,
   "id": "5280b597",
   "metadata": {},
   "outputs": [
    {
     "name": "stdout",
     "output_type": "stream",
     "text": [
      "Enter a string to check for special characters:afsdf %$^&*()\n",
      "Special characters in the given string is/are: % $ ^ & * ( )\n"
     ]
    }
   ],
   "source": [
    "import string\n",
    "s=input('Enter a string to check for special characters:')\n",
    "check=string.punctuation\n",
    "sp_char=[]\n",
    "for i in s:\n",
    "    if i in check:\n",
    "        sp_char.append(i)\n",
    "if len(sp_char)>0:\n",
    "    print('Special characters in the given string is/are:',*sp_char)\n",
    "else:\n",
    "    print('There are no special characters in the given string.')\n"
   ]
  },
  {
   "cell_type": "code",
   "execution_count": null,
   "id": "1b0f8251",
   "metadata": {},
   "outputs": [],
   "source": []
  }
 ],
 "metadata": {
  "kernelspec": {
   "display_name": "Python 3 (ipykernel)",
   "language": "python",
   "name": "python3"
  },
  "language_info": {
   "codemirror_mode": {
    "name": "ipython",
    "version": 3
   },
   "file_extension": ".py",
   "mimetype": "text/x-python",
   "name": "python",
   "nbconvert_exporter": "python",
   "pygments_lexer": "ipython3",
   "version": "3.11.2"
  }
 },
 "nbformat": 4,
 "nbformat_minor": 5
}
