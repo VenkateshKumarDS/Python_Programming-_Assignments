{
 "cells": [
  {
   "cell_type": "markdown",
   "id": "b540560a",
   "metadata": {},
   "source": [
    "1.\tWrite a Python program to print \"Hello Python\"?"
   ]
  },
  {
   "cell_type": "code",
   "execution_count": 1,
   "id": "16711593",
   "metadata": {},
   "outputs": [
    {
     "name": "stdout",
     "output_type": "stream",
     "text": [
      "Hello Python\n"
     ]
    }
   ],
   "source": [
    "print('Hello Python')"
   ]
  },
  {
   "cell_type": "markdown",
   "id": "f52f37f3",
   "metadata": {},
   "source": [
    "2.\tWrite a Python program to do arithmetical operations addition and division.?"
   ]
  },
  {
   "cell_type": "code",
   "execution_count": 2,
   "id": "3452788f",
   "metadata": {},
   "outputs": [
    {
     "name": "stdout",
     "output_type": "stream",
     "text": [
      "Enter first number:25\n",
      "Enter second number:54\n",
      "Addition of 2 numbers: 79\n",
      "Division of two numbers: 0.46296296296296297\n"
     ]
    }
   ],
   "source": [
    "a=int(input('Enter first number:'))\n",
    "b=int(input('Enter second number:'))\n",
    "print('Addition of 2 numbers:',a+b)\n",
    "print('Division of two numbers:',a/b)"
   ]
  },
  {
   "cell_type": "markdown",
   "id": "4f90eb51",
   "metadata": {},
   "source": [
    "3.\tWrite a Python program to find the area of a triangle?"
   ]
  },
  {
   "cell_type": "code",
   "execution_count": 5,
   "id": "d9e3569e",
   "metadata": {},
   "outputs": [
    {
     "name": "stdout",
     "output_type": "stream",
     "text": [
      "Enter base of the triangle:10\n",
      "Enter height of the triangle:10\n",
      "The Area of the traingle for base= 10.0 & height= 10.0 is: 50.0\n"
     ]
    }
   ],
   "source": [
    "# This program gives the area of the triangle by giving base and height as input\n",
    "base=float(input('Enter base of the triangle:'))\n",
    "height=float(input('Enter height of the triangle:'))\n",
    "print('The Area of the traingle for base =',base,'& height =',height,'is:',0.5*base*height)"
   ]
  },
  {
   "cell_type": "markdown",
   "id": "f560a354",
   "metadata": {},
   "source": [
    "4.\tWrite a Python program to swap two variables?"
   ]
  },
  {
   "cell_type": "code",
   "execution_count": 10,
   "id": "09073d33",
   "metadata": {},
   "outputs": [
    {
     "name": "stdout",
     "output_type": "stream",
     "text": [
      "Enter \"a\" value:58\n",
      "Enter \"b\" value:36\n",
      "The swaped values are:a= 36 & b= 58\n"
     ]
    }
   ],
   "source": [
    "#This program swaps two variables\n",
    "a=int(input('Enter \"a\" value:'))\n",
    "b=int(input('Enter \"b\" value:'))\n",
    "a,b=b,a\n",
    "print('The swaped values are:a =',a,'& b =',b)"
   ]
  },
  {
   "cell_type": "markdown",
   "id": "5884bfaf",
   "metadata": {},
   "source": [
    "5.\tWrite a Python program to generate a random number?"
   ]
  },
  {
   "cell_type": "code",
   "execution_count": 13,
   "id": "3d9d6010",
   "metadata": {},
   "outputs": [
    {
     "name": "stdout",
     "output_type": "stream",
     "text": [
      "A random number between 1 and 100: 41\n"
     ]
    }
   ],
   "source": [
    "import random as rnd\n",
    "print('A random number between 1 and 100:',rnd.randint(1,100))"
   ]
  },
  {
   "cell_type": "code",
   "execution_count": null,
   "id": "cf93510d",
   "metadata": {},
   "outputs": [],
   "source": []
  }
 ],
 "metadata": {
  "kernelspec": {
   "display_name": "Python 3 (ipykernel)",
   "language": "python",
   "name": "python3"
  },
  "language_info": {
   "codemirror_mode": {
    "name": "ipython",
    "version": 3
   },
   "file_extension": ".py",
   "mimetype": "text/x-python",
   "name": "python",
   "nbconvert_exporter": "python",
   "pygments_lexer": "ipython3",
   "version": "3.11.2"
  }
 },
 "nbformat": 4,
 "nbformat_minor": 5
}
